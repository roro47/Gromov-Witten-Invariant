{
 "cells": [
  {
   "cell_type": "code",
   "execution_count": 15,
   "source": [
    "# get contribution for degree 0 class\n",
    "def phi_cpn(n, t):\n",
    "\n",
    "    t = var(','.join('t%s'%i for i in range(n+1)))\n",
    "    expr = 0\n",
    "    for i in range(0, n):\n",
    "        for j in range(i+1, n):\n",
    "            if i < j and j < (n - i - j):\n",
    "                expr += t[i]*t[j]*t[n-i-j]\n",
    "    \n",
    "    for i in range(0, n): # todo: too long range\n",
    "        if (2*i <= n) and (n != 3*i):\n",
    "            expr += t[i]^2*t[n-2*i]/2\n",
    "     \n",
    "    if n % 3 == 0:\n",
    "        expr += t[n/3]^3\n",
    "\n",
    "    return expr\n",
    "\n",
    "\n",
    "print(phi_cpn(2))\n",
    "\n"
   ],
   "outputs": [
    {
     "output_type": "stream",
     "name": "stdout",
     "text": [
      "1/2*t0*t1^2 + 1/2*t0^2*t2\n"
     ]
    }
   ],
   "metadata": {}
  },
  {
   "cell_type": "code",
   "execution_count": 29,
   "source": [
    "\n",
    "from sage.symbolic.function import BuiltinFunction\n",
    "\n",
    "class Nd_class(BuiltinFunction):\n",
    "    def __init__(self):\n",
    "        BuiltinFunction.__init__(self, 'test', nargs = (n+1) + 2)\n",
    "    \n",
    "    def _eval_(self, n, d, *args):\n",
    "        val = sum((v-1)*k[v].subs({v: i}) for i in range(2, n+1)) - n - d*(n+1) - 3\n",
    "        if val != 0:\n",
    "            return 0\n",
    "\n",
    "\n",
    "def gw_potential(n, s, t):\n",
    "    if n == 1:\n",
    "        #s, t0, t1 = var('s, t0, t1')\n",
    "        potential = Pow(t[0], 2)*t1/2 + exp(t[1])*s\n",
    "        return potential\n",
    "    elif n >= 2:\n",
    "        # t = var(','.join('t%s'%i for i in range(n+1)))\n",
    "        phi = phi_cpn(n, t)\n",
    "        k = var(','.join('t%s'%i for i in range(n+1))) \n",
    "        d = var('d')\n",
    "        s = var('s')\n",
    "\n",
    "        Nd = Nd_class()\n",
    "\n",
    "        term = Nd(n, d*(k))* prod(t[i] for i in range(2, n+1)) \\\n",
    "            /(prod(factorial(k[i]) for i in range(2, n+1))) \\\n",
    "                * s^d * e^(d*t[1])\n",
    "\n",
    "        # generation function\n",
    "        term = 1\n",
    "        for i in range(2, n+1):\n",
    "            term = sum(term.subs({k[i]: j}), j, 0, infinity)\n",
    "\n",
    "        term = sum(term.subs({d: j}), j, 1, infinity)\n",
    "\n",
    "        return phi + term \n",
    "    else:\n",
    "        return -1"
   ],
   "outputs": [],
   "metadata": {}
  },
  {
   "cell_type": "code",
   "execution_count": null,
   "source": [
    "class g_class(BuiltinFunction):\n",
    "    def __init__(self):\n",
    "        BuiltinFunction.__init__(self, 'test', nargs = 3)\n",
    "    \n",
    "    def _eval_(self, n, i, j):\n",
    "        if i + j == n:\n",
    "            return 1\n",
    "        else:\n",
    "            return 0\n",
    "        \n",
    "\n",
    "def calc(n, s, t):\n",
    "    s = var('s')\n",
    "    t = \n",
    "    big_phi = gw_potential(n, s, t)\n",
    "\n",
    "    g = g_class()\n",
    "\n",
    "    term1 = diff(diff(diff(big_phi, t[v]), t[j]), t[i])\n",
    "    term2 = diff(diff(diff(big_phi, t[l]), t[k]), t[u])\n",
    "    term3 = diff(diff(diff(big_phi, t[v]), t[k]), t[j])\n",
    "    term4 = diff(diff(diff(big_phi, t[l]), t[i]), t[u])\n",
    "\n",
    "    lhs = sum(sum(term1 * g(n, v, u) * term2.subs({u:j}), j, 0, n).subs({v:i}), i, 0, n)\n",
    "    rhs = sum(sum(term3 * g(n, v, u) * term4.subs({u:j}), j, 0, n).subs({v:i}), i, 0, n)\n",
    "\n",
    "    wdvv = lhs - rhs\n",
    "\n",
    "    equations_list = []\n",
    "\n",
    "    for val_i in range(0, n+1):\n",
    "        for val_j in range(0, n+1):\n",
    "            for val_k in range(0, n+1):\n",
    "                for val_l in range(0, n+1):\n",
    "                    equations_list.append(wdvv.subs({i:val_i, j:val_j, k:val_k, l: val_l}))"
   ],
   "outputs": [],
   "metadata": {}
  },
  {
   "cell_type": "code",
   "execution_count": 18,
   "source": [
    "f = function('f', nargs=0)\n",
    "k = var('k0 k1 k2')\n",
    "t = var('t0 t1 t2')\n",
    "\n",
    "term = f(k[1], k[2]) * t[1]^k[1] * t[2]^k[2] / (factorial(k[1]) * factorial(k[2]))\n",
    "i = var('i')\n",
    "expr = sum(expr.subs({k[2]:i}), i, 0, infinity)\n",
    "print(expr)\n"
   ],
   "outputs": [
    {
     "output_type": "stream",
     "name": "stdout",
     "text": [
      "1/6*sum((t1^3*f(3, i) + 6*t1*f(1, i))*t2^i/factorial(i), i, 0, +Infinity)\n"
     ]
    }
   ],
   "metadata": {}
  },
  {
   "cell_type": "code",
   "execution_count": 32,
   "source": [
    "from sage.symbolic.function import BuiltinFunction\n",
    "\n",
    "\n",
    "class g_class(BuiltinFunction):\n",
    "    def __init__(self):\n",
    "        BuiltinFunction.__init__(self, 'test', nargs = 3)\n",
    "    \n",
    "    def _eval_(self, x, *args):\n",
    "        if args[0] == 2:\n",
    "            return 0\n",
    "        \n",
    "\n",
    "\n",
    "g = g_class()\n",
    "print(g(1,2,3) == g(1,2,3))"
   ],
   "outputs": [
    {
     "output_type": "stream",
     "name": "stdout",
     "text": [
      "True\n"
     ]
    }
   ],
   "metadata": {}
  }
 ],
 "metadata": {
  "kernelspec": {
   "display_name": "SageMath 9.2",
   "language": "sage",
   "name": "sagemath_9_2_all"
  },
  "language_info": {
   "codemirror_mode": {
    "name": "ipython",
    "version": 3
   },
   "file_extension": ".py",
   "mimetype": "text/x-python",
   "name": "python",
   "nbconvert_exporter": "python",
   "pygments_lexer": "ipython3",
   "version": "3.8.5"
  },
  "orig_nbformat": 4
 },
 "nbformat": 4,
 "nbformat_minor": 2
}