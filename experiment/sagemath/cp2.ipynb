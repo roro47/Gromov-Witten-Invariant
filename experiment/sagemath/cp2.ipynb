{
 "cells": [
  {
   "cell_type": "code",
   "execution_count": 14,
   "metadata": {},
   "outputs": [
    {
     "name": "stdout",
     "output_type": "stream",
     "text": [
      "620\n"
     ]
    }
   ],
   "source": [
    "def cp2_recursion(d):\n",
    "    if d <= 0:\n",
    "        return 0\n",
    "\n",
    "    if d == 1:\n",
    "        return 1 # N_d = 1\n",
    "\n",
    "    acc = 0\n",
    "    for k in range(1, d): # k from 1 to d - 1\n",
    "        l = d - k\n",
    "        acc += cp2_recursion(k)* cp2_recursion(l) * \\\n",
    "            (k^2*l^2*binomial(3*d - 4, 3*k - 2) - \\\n",
    "                k^3*l*binomial(3*d - 4, 3*k - 1))\n",
    "    return acc\n",
    "\n",
    "print(cp2_recursion(4))"
   ]
  },
  {
   "cell_type": "code",
   "execution_count": 15,
   "metadata": {},
   "outputs": [
    {
     "name": "stderr",
     "output_type": "stream",
     "text": [
      "test_N_1 (__main__.TestCP2Recursion) ... ok\n",
      "test_N_2 (__main__.TestCP2Recursion) ... ok\n",
      "test_N_3 (__main__.TestCP2Recursion) ... ok\n",
      "test_N_4 (__main__.TestCP2Recursion) ... ok\n",
      "test_N_5 (__main__.TestCP2Recursion) ... ok\n",
      "test_N_6 (__main__.TestCP2Recursion) ... ok\n",
      "test_N_7 (__main__.TestCP2Recursion) ... ok\n",
      "\n",
      "----------------------------------------------------------------------\n",
      "Ran 7 tests in 0.038s\n",
      "\n",
      "OK\n"
     ]
    },
    {
     "data": {
      "text/plain": [
       "<unittest.main.TestProgram object at 0x138bf2ac0>"
      ]
     },
     "execution_count": 15,
     "metadata": {},
     "output_type": "execute_result"
    }
   ],
   "source": [
    "#from sage.misc.sage_unittest import InstanceTester\n",
    "import unittest\n",
    "\n",
    "\n",
    "class TestCP2Recursion(unittest.TestCase):\n",
    "\n",
    "    def test_N_1(self):\n",
    "        self.assertEqual(cp2_recursion(1), 1, \"Should be 1\")\n",
    "\n",
    "    def test_N_2(self):\n",
    "        self.assertEqual(cp2_recursion(2), 1, \"Should be 1\")\n",
    "\n",
    "    def test_N_3(self):\n",
    "        self.assertEqual(cp2_recursion(3), 12, \"Should be 12\")\n",
    "\n",
    "    def test_N_4(self):\n",
    "        self.assertEqual(cp2_recursion(4), 620, \"Should be 620\")\n",
    "\n",
    "    def test_N_5(self):\n",
    "        self.assertEqual(cp2_recursion(5), 87304, \"Should be 87,304\")\n",
    "\n",
    "    def test_N_6(self):\n",
    "        self.assertEqual(cp2_recursion(6), 26312976, \"Should be 26,312,976\")\n",
    "\n",
    "    def test_N_7(self):\n",
    "        self.assertEqual(cp2_recursion(7), 14616808192, \"Should be 14,616,808,192\")\n",
    "   \n",
    "\n",
    "unittest.main(argv=[''], verbosity=2, exit=False)\n"
   ]
  }
 ],
 "metadata": {
  "interpreter": {
   "hash": "449a647564a1d605eddfa34f193c2f14549e7cf9273b3a5975d604a0ed36f4f8"
  },
  "kernelspec": {
   "display_name": "SageMath 9.2",
   "language": "sage",
   "name": "sagemath_9_2_all"
  },
  "language_info": {
   "codemirror_mode": {
    "name": "ipython",
    "version": 3
   },
   "file_extension": ".py",
   "mimetype": "text/x-python",
   "name": "python",
   "nbconvert_exporter": "python",
   "pygments_lexer": "ipython3",
   "version": "3.8.5"
  },
  "orig_nbformat": 4
 },
 "nbformat": 4,
 "nbformat_minor": 2
}