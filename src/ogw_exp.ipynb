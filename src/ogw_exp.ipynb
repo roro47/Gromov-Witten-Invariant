{
 "cells": [
  {
   "cell_type": "code",
   "execution_count": null,
   "source": [
    "# ogw_exp computes the open gromov witten invariant of (CP^n, RP^n)\n",
    "# Input:\n",
    "# n - dimension of the real projective space RP^n\n",
    "# A - list of cohomology classes represented by integers, ranging from 1...n, and -1 representing \\Gamma_{square}\n",
    "# b - beta, a non-negative integer\n",
    "# k - a non-negative integer\n",
    "def ogw_exp(n, A, b, k):\n",
    "\n",
    "    l = len(A)\n",
    "    \n",
    "    # wall-crossing theorem (Elad)\n",
    "\n",
    "    # degree axiom (Elad)\n",
    "\n",
    "    # unit axiom (May)\n",
    "\n",
    "    # divisor axiom (May) "
   ],
   "outputs": [],
   "metadata": {}
  },
  {
   "cell_type": "code",
   "execution_count": null,
   "source": [],
   "outputs": [],
   "metadata": {}
  }
 ],
 "metadata": {
  "orig_nbformat": 4,
  "language_info": {
   "name": "sage"
  }
 },
 "nbformat": 4,
 "nbformat_minor": 2
}