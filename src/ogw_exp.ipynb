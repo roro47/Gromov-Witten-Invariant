{
 "cells": [
  {
   "cell_type": "code",
   "execution_count": 2,
   "source": [
    "%run gw_exp.ipynb"
   ],
   "outputs": [
    {
     "output_type": "error",
     "ename": "ModuleNotFoundError",
     "evalue": "No module named 'ipynb'",
     "traceback": [
      "\u001b[0;31m---------------------------------------------------------------------------\u001b[0m",
      "\u001b[0;31mModuleNotFoundError\u001b[0m                       Traceback (most recent call last)",
      "\u001b[0;32m<ipython-input-2-4c4189fa64ea>\u001b[0m in \u001b[0;36m<module>\u001b[0;34m\u001b[0m\n\u001b[0;32m----> 1\u001b[0;31m \u001b[0;32mfrom\u001b[0m \u001b[0mipynb\u001b[0m\u001b[0;34m.\u001b[0m\u001b[0mfs\u001b[0m\u001b[0;34m.\u001b[0m\u001b[0mfull\u001b[0m\u001b[0;34m.\u001b[0m\u001b[0mgw_exp\u001b[0m \u001b[0;32mimport\u001b[0m \u001b[0mgw_invariant\u001b[0m\u001b[0;34m\u001b[0m\u001b[0;34m\u001b[0m\u001b[0m\n\u001b[0m",
      "\u001b[0;31mModuleNotFoundError\u001b[0m: No module named 'ipynb'"
     ]
    }
   ],
   "metadata": {}
  },
  {
   "cell_type": "code",
   "execution_count": null,
   "source": [
    "# ogw_exp computes the open gromov witten invariant of (CP^n, RP^n)\n",
    "# Input:\n",
    "# n - dimension of the real projective space RP^n\n",
    "# A - list of cohomology classes represented by integers, ranging from 1...n, and -1 representing \\Gamma_{square}\n",
    "# b - beta, a non-negative integer\n",
    "# k - number of boundary marked points, a non-negative integer\n",
    "def ogw_exp(n, A, b, k):\n",
    "\n",
    "    A.sort()    # asceding order\n",
    "    A.reverse() # to descending order\n",
    "\n",
    "    for c_d in A:\n",
    "        if c_d > n:\n",
    "            return 0\n",
    "\n",
    "    # wall-crossing theorem (Elad)\n",
    "    if A[-1] == -1:\n",
    "        del A[-1] # remove the last element\n",
    "        return -ogw_exp(n, A, b, k+1)\n",
    "\n",
    "    #degree axiom (Elad)\n",
    "    if 2 * sum(A)!= (n - 3 + (n+1)*b + k + 2*l - k*n):  \n",
    "        # The maslov index is twice the chern class n+1 for holomorphic spheres. \n",
    "        # Using the invoulotion we can deduce that its half of this for disks thus mu(b)=b*(n+1) \n",
    "        return 0\n",
    "\n",
    "    # unit axiom (May)\n",
    "\n",
    "    # divisor axiom (May) \n",
    "\n",
    "\n",
    "    t = ogw_exp(n, [A[0]-1, A[1] + 2] + A[2:], b, k)\n",
    "    "
   ],
   "outputs": [],
   "metadata": {}
  },
  {
   "cell_type": "code",
   "execution_count": null,
   "source": [],
   "outputs": [],
   "metadata": {}
  }
 ],
 "metadata": {
  "orig_nbformat": 4,
  "language_info": {
   "name": "sage"
  }
 },
 "nbformat": 4,
 "nbformat_minor": 2
}