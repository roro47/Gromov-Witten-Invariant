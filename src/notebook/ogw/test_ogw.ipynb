{
 "cells": [
  {
   "cell_type": "code",
   "execution_count": 12,
   "source": [
    "from sage.all import *\n",
    "import unittest\n"
   ],
   "outputs": [],
   "metadata": {}
  },
  {
   "cell_type": "code",
   "execution_count": 13,
   "source": [
    "def get_l1(n, b, k, l2, A1, A2):\n",
    "    m = n - 3 + b*(n+1) + k + 2*l2 - k*n - 2*l2 * A2\n",
    "    if (m % (2*(A1 - 1))) == 0:\n",
    "        return int(m / (2*(A1 - 1)))\n",
    "    else:\n",
    "        assert False, \"illegal input\"\n",
    "\n",
    "%run ogw_wrapped_compressed.ipynb\n",
    "\n",
    "class TestOGWInvatiant(unittest.TestCase):\n",
    "\n",
    "    def test_no_points(self):\n",
    "        A_list = [\n",
    "            ([3, 3, 6], -2),\n",
    "            ([3, 5, 10], 90),\n",
    "            ([3, 7, 14], -29178),\n",
    "            ([5, 5, 8], 2),\n",
    "            ([5, 9, 14], 1974),\n",
    "            ([5, 13, 20], 42781410),\n",
    "            ([5, 17, 26], 7024726794150),\n",
    "            ([7, 7, 10], -2),\n",
    "            ([7, 13, 18], 35498),\n",
    "            ([7, 19, 26], -40083246650),\n",
    "            ([7, 25, 34], 680022893749060370),\n",
    "            ([9, 9, 12], 2),\n",
    "            ([9, 17, 22], 587334),\n",
    "            ([9, 25, 32], 31424766229890),\n",
    "            ([9, 33, 42], 49920592599715322910150),\n",
    "            ([15, 15, 18], -2),\n",
    "            ([15, 29, 34], 2247512778)\n",
    "        ]\n",
    "\n",
    "        for t in A_list:\n",
    "            n = t[0][0]\n",
    "            b = t[0][1]\n",
    "            k = t[0][2]\n",
    "            ogw = t[1]\n",
    "\n",
    "            A = ClassList.compress([], n)\n",
    "\n",
    "            self.assertEqual(ogw_invariant(n, b, k, A), ogw, \\\n",
    "                f'For {t} and A: {A} , value should be {ogw}')\n",
    "    \n",
    "    def test_n5_class2_class4(self):\n",
    "        A_list = [\n",
    "          # ([n, b, k, l2, Gamma_2, Gmma_4], result)\n",
    "            ([5, 1, 0, 0, 2, 4], 1/8),\n",
    "            ([5, 3, 0, 0, 2, 4], -43515/512),\n",
    "            ([5, 5, 0, 0, 2, 4], 601224741985/32768),\n",
    "            ([5, 7, 0, 0, 2, 4], -116238642273889476915/2097152),\n",
    "            ([5, 9, 0, 0, 2, 4], 140294698313130485254672005681/134217728),\n",
    "\n",
    "            ([5, 1, 0, 1, 2, 4], 1/2),\n",
    "            ([5, 3, 0, 1, 2, 4], -255/32),\n",
    "            ([5, 5, 0, 1, 2, 4], 602002259/1024),\n",
    "            ([5, 7, 0, 1, 2, 4], -113202029455499631/131072),\n",
    "            ([5, 9, 0, 1, 2, 4], 20113658490667274313737811/2097152),\n",
    "\n",
    "            ([5, 1, 0, 2, 2, 4], 0),\n",
    "            ([5, 3, 0, 2, 2, 4], -11/32),\n",
    "            ([5, 5, 0, 2, 2, 4], 42354213/2048),\n",
    "            ([5, 7, 0, 2, 2, 4], -1929681317485627/131072),\n",
    "            ([5, 9, 0, 2, 2, 4], 797025207129184980573997/8388608),\n",
    "\n",
    "            ([5, 1, 0, 3, 2, 4], 0),\n",
    "            ([5, 3, 0, 3, 2, 4], 3/8),\n",
    "            ([5, 5, 0, 3, 2, 4], 88007/128),\n",
    "            ([5, 7, 0, 3, 2, 4], -136049411385/512),\n",
    "            ([5, 9, 0, 3, 2, 4], 526360518604567156539/524288)\n",
    "            ]\n",
    "        \n",
    "        for t in A_list:\n",
    "            n = t[0][0]\n",
    "            b = t[0][1]\n",
    "            k = t[0][2]\n",
    "            l2 = t[0][3]\n",
    "            A1 = t[0][4]\n",
    "            A2 = t[0][5]\n",
    "            l1 = get_l1(n, b, k, l2, A1, A2)\n",
    "\n",
    "            if l1 < 0:\n",
    "                continue\n",
    "            \n",
    "            A = ClassList.compress([A1] * l1 + [A2] * l2, n)\n",
    "            ogw = t[1]\n",
    "\n",
    "            self.assertEqual(ogw_invariant(n, b, k, A), ogw, \\\n",
    "                f'For {t} and A: {A} , value should be {ogw}')\n",
    "\n",
    "    def test_n7_class2_class6(self):\n",
    "        A_list = [ # ([n, b, k, l1, Gamma_2, Gmma_6], result)\n",
    "            ([7, 1, 0, 0, 2, 6], -1/32),\n",
    "            ([7, 3, 0, 0, 2, 6], -40990173/8192),\n",
    "            ([7, 5, 0, 0, 2, 6], -679329355023877929/2097152),\n",
    "            ([7, 7, 0, 0, 2, 6], -304348375415626014616826203269/536870912),\n",
    "\n",
    "            ([7, 1, 0, 1, 2, 6], -1/2),\n",
    "            ([7, 3, 0, 1, 2, 6], -23229/512),\n",
    "            ([7, 5, 0, 1, 2, 6], -32941896518265/131072),\n",
    "            ([7, 7, 0, 1, 2, 6], -3267223276596315843861141/33554432),\n",
    "\n",
    "            ([7, 1, 0, 2, 2, 6], 0),\n",
    "            ([7, 3, 0, 2, 2, 6], -11/32),\n",
    "            ([7, 5, 0, 2, 2, 6], -2874828463/8192),\n",
    "            ([7, 7, 0, 2, 2, 6], -54161348711499099171/2097152),\n",
    "\n",
    "            ([7, 1, 0, 3, 2, 6], 0),\n",
    "            ([7, 3, 0, 3, 2, 6], 0),\n",
    "            ([7, 5, 0, 3, 2, 6], -338633/512),\n",
    "            ([7, 7, 0, 3, 2, 6], -1318018642164857/131072)\n",
    "            ]\n",
    "        \n",
    "        for t in A_list:\n",
    "            n = t[0][0]\n",
    "            b = t[0][1]\n",
    "            k = t[0][2]\n",
    "            l2 = t[0][3]\n",
    "            A1 = t[0][4]\n",
    "            A2 = t[0][5]\n",
    "            l1 = get_l1(n, b, k, l2, A1, A2)\n",
    "\n",
    "            if l1 < 0:\n",
    "                continue\n",
    "\n",
    "            A = ClassList.compress([A1] * l1 + [A2] * l2, n)\n",
    "            ogw = t[1]\n",
    "            self.assertEqual(ogw_invariant(n, b, k, A), ogw, \\\n",
    "                \"For \" + str(t) + \", and A: \" + str(A) \\\n",
    "                    + \" , value should be \" + str(ogw))\n",
    "\n"
   ],
   "outputs": [
    {
     "output_type": "stream",
     "name": "stderr",
     "text": [
      "ERROR:root:File `'cp2_recursion.ipynb.py'` not found.\n"
     ]
    }
   ],
   "metadata": {}
  },
  {
   "cell_type": "code",
   "execution_count": 14,
   "source": [
    "unittest.main(argv=['TestOGWInvatiant.test_no_points'], verbosity=2, exit=False)\n"
   ],
   "outputs": [
    {
     "output_type": "stream",
     "name": "stderr",
     "text": [
      "test_n5_class2_class4 (__main__.TestOGWInvatiant) ... ok\n",
      "test_n7_class2_class6 (__main__.TestOGWInvatiant) ... ok\n",
      "test_no_points (__main__.TestOGWInvatiant) ... ok\n",
      "\n",
      "----------------------------------------------------------------------\n",
      "Ran 3 tests in 63.705s\n",
      "\n",
      "OK\n"
     ]
    },
    {
     "output_type": "execute_result",
     "data": {
      "text/plain": [
       "<unittest.main.TestProgram object at 0x13bce4160>"
      ]
     },
     "metadata": {},
     "execution_count": 14
    }
   ],
   "metadata": {}
  }
 ],
 "metadata": {
  "orig_nbformat": 4,
  "language_info": {
   "name": "sage",
   "version": "3.8.5",
   "mimetype": "text/x-python",
   "codemirror_mode": {
    "name": "ipython",
    "version": 3
   },
   "pygments_lexer": "ipython3",
   "nbconvert_exporter": "python",
   "file_extension": ".py"
  },
  "kernelspec": {
   "name": "sagemath_9_2_all",
   "display_name": "SageMath 9.2",
   "language": "sage"
  }
 },
 "nbformat": 4,
 "nbformat_minor": 2
}