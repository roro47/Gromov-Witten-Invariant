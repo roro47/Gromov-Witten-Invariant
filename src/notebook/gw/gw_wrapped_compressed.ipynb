{
 "cells": [
  {
   "cell_type": "code",
   "execution_count": 1,
   "metadata": {},
   "outputs": [],
   "source": [
    "# the following code allows you to import function from\n",
    "# jupyter notebook in other directory\n",
    "import os\n",
    "import sys\n",
    "module_path = os.path.abspath(os.path.join('..'))\n",
    "if module_path not in sys.path:\n",
    "    sys.path.append(module_path)"
   ]
  },
  {
   "cell_type": "code",
   "execution_count": 4,
   "metadata": {},
   "outputs": [],
   "source": [
    "import functools\n",
    "%run ../gw/cp2_recursion.ipynb\n",
    "%run ../compressed_class_list/compressed_class_list.ipynb"
   ]
  },
  {
   "cell_type": "code",
   "execution_count": 5,
   "metadata": {},
   "outputs": [],
   "source": [
    "@functools.lru_cache(maxsize=None)\n",
    "def gw_invariant(dim, d, l):\n",
    "    if isinstance(l, list):\n",
    "        l = ClassList.compress(l, n)\n",
    "    r = dim\n",
    "    n = len(l)\n",
    "    for i in l:\n",
    "        if i > r:\n",
    "            return 0\n",
    "        pass\n",
    "    if sum(l) != r*d + r + d + n - 3:\n",
    "        return 0\n",
    "    elif n == 0 or n == 1:\n",
    "        return 0\n",
    "    elif d == 0:\n",
    "        if n == 3 and sum(l) == r:\n",
    "            return 1\n",
    "        else:\n",
    "            return 0\n",
    "    elif n == 2:\n",
    "        if d == 1 and l == [r,r]:\n",
    "            return 1\n",
    "        else:\n",
    "            return 0\n",
    "    else:\n",
    "        if l[0] == 0:\n",
    "            return 0\n",
    "        elif l[0] == 1:\n",
    "            return d*gw_invariant(dim, d,l[1:])\n",
    "        elif r == 2:\n",
    "            if l == [2]*(3*d-1):\n",
    "                return cp2_recursion(d)\n",
    "            else:\n",
    "                return 0\n",
    "        else:\n",
    "\n",
    "            l1 = l[0] - 1\n",
    "            l2 = 1\n",
    "            ll = [l2] + l[2:] + [l1+l[1]]\n",
    "            res = gw_invariant(dim, d, ll)\n",
    "            ll2 = l[3:]\n",
    "            S = ll2.bipart()\n",
    "\n",
    "            for s in S:\n",
    "                A = s[0]\n",
    "                nA = len(A)\n",
    "                cA = sum(A)\n",
    "                B = s[1]\n",
    "                bipart_coeff = ClassList.bipart_coeff(ll2, A)\n",
    "                for dA in range(1,d+1):\n",
    "                    dB = d - dA\n",
    "                    e = r*dA + r + dA + nA - cA - l1 - l[1]\n",
    "                    if e >= 0 and e <= r:\n",
    "                        a = gw_invariant(dim, dA,[l1,l[1]]+A+[e])\n",
    "                        b = gw_invariant(dim, dB,[l2,l[2]]+B+[r-e])\n",
    "                        res = res + bipart_coeff*a*b\n",
    "                      \n",
    "                    f = r*dA + r + dA + nA - cA - l1 - l2\n",
    "                    if f >= 0 and f <= r:\n",
    "                        x = gw_invariant(dim, dA,[l1,l2]+A+[f])\n",
    "                        y = gw_invariant(dim, dB,[l[1],l[2]]+B+[r-f])\n",
    "                        res = res - bipart_coeff*x*y\n",
    "\n",
    "            return res\n"
   ]
  },
  {
   "cell_type": "code",
   "execution_count": null,
   "metadata": {},
   "outputs": [],
   "source": []
  }
 ],
 "metadata": {
  "kernelspec": {
   "display_name": "SageMath 9.4",
   "language": "sage",
   "name": "sagemath-9.4"
  },
  "language_info": {
   "codemirror_mode": {
    "name": "ipython",
    "version": 3
   },
   "file_extension": ".py",
   "mimetype": "text/x-python",
   "name": "python",
   "nbconvert_exporter": "python",
   "pygments_lexer": "ipython3",
   "version": "3.9.5"
  }
 },
 "nbformat": 4,
 "nbformat_minor": 2
}
