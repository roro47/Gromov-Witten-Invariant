{
 "cells": [
  {
   "cell_type": "code",
   "execution_count": 3,
   "metadata": {},
   "outputs": [],
   "source": [
    "from sage.all import *\n",
    "import functools\n",
    "import os\n",
    "import sys\n",
    "module_path = os.path.abspath(os.path.join('..'))\n",
    "if module_path not in sys.path:\n",
    "    sys.path.append(module_path)"
   ]
  },
  {
   "cell_type": "code",
   "execution_count": 4,
   "metadata": {},
   "outputs": [],
   "source": [
    "@functools.lru_cache(maxsize=None)\n",
    "def cp2_recursion(d):\n",
    "    if d <= 0:\n",
    "        return 0\n",
    "\n",
    "    if d == 1:\n",
    "        return 1  # N_d = 1\n",
    "\n",
    "    acc = 0\n",
    "    for k in range(1, d):  # k from 1 to d - 1\n",
    "        l = d - k\n",
    "        acc += cp2_recursion(k) * cp2_recursion(l) * \\\n",
    "            (k ^ 2*l ^ 2*binomial(3*d - 4, 3*k - 2) -\n",
    "                k ^ 3*l*binomial(3*d - 4, 3*k - 1))\n",
    "    return acc\n"
   ]
  },
  {
   "cell_type": "code",
   "execution_count": null,
   "metadata": {},
   "outputs": [],
   "source": []
  }
 ],
 "metadata": {
  "kernelspec": {
   "display_name": "SageMath 9.4",
   "language": "sage",
   "name": "sagemath-9.4"
  },
  "language_info": {
   "codemirror_mode": {
    "name": "ipython",
    "version": 3
   },
   "file_extension": ".py",
   "mimetype": "text/x-python",
   "name": "python",
   "nbconvert_exporter": "python",
   "pygments_lexer": "ipython3",
   "version": "3.9.5"
  }
 },
 "nbformat": 4,
 "nbformat_minor": 2
}
