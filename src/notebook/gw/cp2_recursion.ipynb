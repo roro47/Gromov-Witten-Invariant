{
 "cells": [
  {
   "cell_type": "code",
   "execution_count": null,
   "source": [
    "import functools"
   ],
   "outputs": [],
   "metadata": {}
  },
  {
   "cell_type": "code",
   "execution_count": null,
   "source": [
    "@functools.lru_cache(maxsize=None)\n",
    "def cp2_recursion(d):\n",
    "    if d <= 0:\n",
    "        return 0\n",
    "\n",
    "    if d == 1:\n",
    "        return 1  # N_d = 1\n",
    "\n",
    "    acc = 0\n",
    "    for k in range(1, d):  # k from 1 to d - 1\n",
    "        l = d - k\n",
    "        acc += cp2_recursion(k) * cp2_recursion(l) * \\\n",
    "            (k ^ 2*l ^ 2*binomial(3*d - 4, 3*k - 2) -\n",
    "                k ^ 3*l*binomial(3*d - 4, 3*k - 1))\n",
    "    return acc\n"
   ],
   "outputs": [],
   "metadata": {}
  },
  {
   "cell_type": "code",
   "execution_count": null,
   "source": [
    "def kontsevich(d):\n",
    "    \"\"\"\n",
    "    Returns the number of rational curves of degree d passing through 3d-1 \n",
    "    general points in P^2.\n",
    "    These numbers are also the genus zero Gromov-Witten invariants for P^2. \n",
    "    \n",
    "    EXAMPLES::\n",
    "    \n",
    "        sage: kontsevich(3)\n",
    "        12\n",
    "        sage: kontsevich(4)\n",
    "        620\n",
    "        sage: kontsevich(5)\n",
    "        87304\n",
    "    \"\"\"\n",
    "    if d == 1:\n",
    "        return 1\n",
    "    if d == 2:\n",
    "        return 1\n",
    "    f = 0\n",
    "    for i in range(1,d):\n",
    "        j = d - i\n",
    "        a = kontsevich(i)\n",
    "        b = kontsevich(j)\n",
    "        f = f + i**2*j*(j*binomial(3*d-4,3*i-2)-i*binomial(3*d-4,3*i-1))*a*b\n",
    "    return "
   ],
   "outputs": [],
   "metadata": {}
  }
 ],
 "metadata": {
  "orig_nbformat": 4,
  "language_info": {
   "name": "python"
  }
 },
 "nbformat": 4,
 "nbformat_minor": 2
}