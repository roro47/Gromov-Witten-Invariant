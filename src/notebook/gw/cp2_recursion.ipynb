{
 "cells": [
  {
   "cell_type": "code",
   "execution_count": null,
   "source": [
    "import functools"
   ],
   "outputs": [],
   "metadata": {}
  },
  {
   "cell_type": "code",
   "execution_count": null,
   "source": [
    "@functools.lru_cache(maxsize=None)\n",
    "def cp2_recursion(d):\n",
    "    if d <= 0:\n",
    "        return 0\n",
    "\n",
    "    if d == 1:\n",
    "        return 1  # N_d = 1\n",
    "\n",
    "    acc = 0\n",
    "    for k in range(1, d):  # k from 1 to d - 1\n",
    "        l = d - k\n",
    "        acc += cp2_recursion(k) * cp2_recursion(l) * \\\n",
    "            (k ^ 2*l ^ 2*binomial(3*d - 4, 3*k - 2) -\n",
    "                k ^ 3*l*binomial(3*d - 4, 3*k - 1))\n",
    "    return acc\n"
   ],
   "outputs": [],
   "metadata": {}
  }
 ],
 "metadata": {
  "orig_nbformat": 4,
  "language_info": {
   "name": "python"
  }
 },
 "nbformat": 4,
 "nbformat_minor": 2
}