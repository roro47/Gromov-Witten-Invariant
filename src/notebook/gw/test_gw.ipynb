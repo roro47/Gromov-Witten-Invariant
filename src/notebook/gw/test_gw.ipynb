{
 "cells": [
  {
   "cell_type": "code",
   "execution_count": 3,
   "metadata": {},
   "outputs": [],
   "source": [
    "# the following code allows you to import function from\n",
    "# jupyter notebook in other directory\n",
    "from sage.all import *\n",
    "import os\n",
    "import sys\n",
    "module_path = os.path.abspath(os.path.join('..'))\n",
    "if module_path not in sys.path:\n",
    "    sys.path.append(module_path)"
   ]
  },
  {
   "cell_type": "code",
   "execution_count": 4,
   "metadata": {},
   "outputs": [],
   "source": [
    "import unittest\n",
    "%run ../compressed_class_list/compressed_class_list.ipynb\n",
    "%run cp2_recursion.ipynb\n",
    "%run gw_wrapped_compressed.ipynb\n",
    "\n"
   ]
  },
  {
   "cell_type": "code",
   "execution_count": 5,
   "metadata": {},
   "outputs": [],
   "source": [
    "class TestCP2Recursion(unittest.TestCase):\n",
    "\n",
    "    def test_N_1(self):\n",
    "        self.assertEqual(cp2_recursion(1), 1, \"Should be 1\")\n",
    "\n",
    "    def test_N_2(self):\n",
    "        self.assertEqual(cp2_recursion(2), 1, \"Should be 1\")\n",
    "\n",
    "    def test_N_3(self):\n",
    "        self.assertEqual(cp2_recursion(3), 12, \"Should be 12\")\n",
    "\n",
    "    def test_N_4(self):\n",
    "        self.assertEqual(cp2_recursion(4), 620, \"Should be 620\")\n",
    "\n",
    "    def test_N_5(self):\n",
    "        self.assertEqual(cp2_recursion(5), 87304, \"Should be 87,304\")\n",
    "\n",
    "    def test_N_6(self):\n",
    "        self.assertEqual(cp2_recursion(6), 26312976, \"Should be 26,312,976\")\n",
    "\n",
    "    def test_N_7(self):\n",
    "        self.assertEqual(cp2_recursion(7), 14616808192, \"Should be 14,616,808,192\")\n",
    "   \n",
    "\n",
    "def cp3_translate(d, k):\n",
    "    k2 = 4*d - 2*k\n",
    "    k3 = k\n",
    "    return ClassList([0, 0, k2, k3])\n",
    "\n",
    "\n",
    "class GWInvariantTest(unittest.TestCase):\n",
    "\n",
    "    def test_N_1(self):\n",
    "        self.assertEqual(cp2_recursion(1), 1, \"Should be 1\")\n",
    "\n",
    "    def test_N_1_2(self):\n",
    "        d, k = [1, 2]\n",
    "        self.assertEqual(gw_invariant(3, d, cp3_translate(d, k)), 1, \\\n",
    "            f'input: {cp3_translate(d, k)}')\n",
    "\n",
    "    def test_N_1_1(self):\n",
    "        d, k = [1, 1]\n",
    "        self.assertEqual(gw_invariant(3, d, cp3_translate(d, k)), 1, \\\n",
    "            f'input: {cp3_translate(d, k)}')\n",
    "\n",
    "    def test_N_1_0(self):\n",
    "        d, k = [1, 0]\n",
    "        self.assertEqual(gw_invariant(3, d, cp3_translate(d, k)), 2, \\\n",
    "            f'input: {cp3_translate(d, k)}')\n",
    "\n",
    "    def test_N_2_4(self):\n",
    "        d, k = [2, 4]\n",
    "        self.assertEqual(gw_invariant(3, d, cp3_translate(d, k)), 0, \\\n",
    "            f'input: {cp3_translate(d, k)}')\n",
    "\n",
    "    def test_N_2_3(self):\n",
    "        d, k = [2, 3]\n",
    "        self.assertEqual(gw_invariant(3, d, cp3_translate(d, k)), 1, \\\n",
    "            f'input: {cp3_translate(d, k)}')\n",
    "\n",
    "    def test_N_2_2(self):\n",
    "        d, k = [2, 2]\n",
    "        self.assertEqual(gw_invariant(3, d, cp3_translate(d, k)), 4, \\\n",
    "            f'input: {cp3_translate(d, k)}')\n",
    "\n",
    "    def test_N_2_1(self):\n",
    "        d, k = [2, 1]\n",
    "        self.assertEqual(gw_invariant(3, d, cp3_translate(d, k)), 18, \\\n",
    "            f'input: {cp3_translate(d, k)}')\n",
    "\n",
    "    def test_N_2_0(self):\n",
    "        d, k = [2, 0]\n",
    "        self.assertEqual(gw_invariant(3, d, cp3_translate(d, k)), 92, \\\n",
    "            f'input: {cp3_translate(d, k)}')\n",
    "\n",
    "    def test_N_3_6(self):\n",
    "        d, k = [3, 6]\n",
    "        self.assertEqual(gw_invariant(3, d, cp3_translate(d, k)), 1, \\\n",
    "            f'input: {cp3_translate(d, k)}')\n",
    "\n",
    "    def test_N_3_5(self):\n",
    "        d, k = [3, 5]\n",
    "        self.assertEqual(gw_invariant(3, d, cp3_translate(d, k)), 5, \\\n",
    "            f'input: {cp3_translate(d, k)}')\n",
    "\n",
    "    def test_N_3_4(self):\n",
    "        d, k = [3, 4]\n",
    "        self.assertEqual(gw_invariant(3, d, cp3_translate(d, k)), 30, \\\n",
    "            f'input: {cp3_translate(d, k)}')\n",
    "\n",
    "    def test_N_3_3(self):\n",
    "        d, k = [3, 3]\n",
    "        self.assertEqual(gw_invariant(3, d, cp3_translate(d, k)), 190, \\\n",
    "            f'input: {cp3_translate(d, k)}')\n",
    "\n"
   ]
  },
  {
   "cell_type": "code",
   "execution_count": 6,
   "metadata": {},
   "outputs": [
    {
     "name": "stderr",
     "output_type": "stream",
     "text": [
      "test_N_1 (__main__.GWInvariantTest) ... ok\n",
      "test_N_1_0 (__main__.GWInvariantTest) ... ok\n",
      "test_N_1_1 (__main__.GWInvariantTest) ... ok\n",
      "test_N_1_2 (__main__.GWInvariantTest) ... ok\n",
      "test_N_2_0 (__main__.GWInvariantTest) ... ok\n",
      "test_N_2_1 (__main__.GWInvariantTest) ... ok\n",
      "test_N_2_2 (__main__.GWInvariantTest) ... ok\n",
      "test_N_2_3 (__main__.GWInvariantTest) ... ok\n",
      "test_N_2_4 (__main__.GWInvariantTest) ... ok\n",
      "test_N_3_3 (__main__.GWInvariantTest) ... ok\n",
      "test_N_3_4 (__main__.GWInvariantTest) ... ok\n",
      "test_N_3_5 (__main__.GWInvariantTest) ... ok\n",
      "test_N_3_6 (__main__.GWInvariantTest) ... ok\n",
      "test_N_1 (__main__.TestCP2Recursion) ... ok\n",
      "test_N_2 (__main__.TestCP2Recursion) ... ok\n",
      "test_N_3 (__main__.TestCP2Recursion) ... ok\n",
      "test_N_4 (__main__.TestCP2Recursion) ... ok\n",
      "test_N_5 (__main__.TestCP2Recursion) ... ok\n",
      "test_N_6 (__main__.TestCP2Recursion) ... ok\n",
      "test_N_7 (__main__.TestCP2Recursion) ... ok\n",
      "\n",
      "----------------------------------------------------------------------\n",
      "Ran 20 tests in 0.019s\n",
      "\n",
      "OK\n"
     ]
    },
    {
     "data": {
      "text/plain": [
       "<unittest.main.TestProgram object at 0x1349af4c0>"
      ]
     },
     "execution_count": 6,
     "metadata": {},
     "output_type": "execute_result"
    }
   ],
   "source": [
    "unittest.main(argv=['TestOGWInvatiant'], verbosity=2, exit=False)\n"
   ]
  },
  {
   "cell_type": "code",
   "execution_count": null,
   "metadata": {},
   "outputs": [],
   "source": []
  },
  {
   "cell_type": "code",
   "execution_count": null,
   "metadata": {},
   "outputs": [],
   "source": []
  }
 ],
 "metadata": {
  "kernelspec": {
   "display_name": "SageMath 9.4",
   "language": "sage",
   "name": "sagemath-9.4"
  },
  "language_info": {
   "codemirror_mode": {
    "name": "ipython",
    "version": 3
   },
   "file_extension": ".py",
   "mimetype": "text/x-python",
   "name": "python",
   "nbconvert_exporter": "python",
   "pygments_lexer": "ipython3",
   "version": "3.9.5"
  }
 },
 "nbformat": 4,
 "nbformat_minor": 2
}
