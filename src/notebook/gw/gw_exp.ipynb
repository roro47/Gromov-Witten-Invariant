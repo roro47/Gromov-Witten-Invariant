{
 "cells": [
  {
   "cell_type": "code",
   "execution_count": 5,
   "source": [
    "import functools\n",
    "\n",
    "%run cp2_recursion.ipynb"
   ],
   "outputs": [],
   "metadata": {}
  },
  {
   "cell_type": "code",
   "execution_count": 6,
   "source": [
    "@functools.lru_cache(maxsize=None)\n",
    "def bipart_helper(l):\n",
    "    if len(l) == 0:\n",
    "        return [[[], []]]\n",
    "    elif len(l) == 1:\n",
    "        k = l[0]\n",
    "        return [[[], [k]], [[k], []]]\n",
    "    else:\n",
    "        ll = [l[i] for i in range(len(l)-1)]\n",
    "        R = bipart(ll)\n",
    "        R1 = [[R[i][0] + [l[-1]], R[i][1]] for i in range(len(R))]\n",
    "        R2 = [[R[i][0], R[i][1] + [l[-1]]] for i in range(len(R))]\n",
    "        return R1 + R2\n",
    "\n",
    "\n",
    "def bipart(l):\n",
    "    return bipart_helper(tuple(l))\n"
   ],
   "outputs": [],
   "metadata": {}
  },
  {
   "cell_type": "code",
   "execution_count": 7,
   "source": [
    "@functools.lru_cache(maxsize=None)\n",
    "def gw_invariant_helper(dim, d, l):\n",
    "        \"\"\"\n",
    "        Returns the Gromov-Witten invariants for this projective space.\n",
    "        INPUT: \n",
    "            d is the degree\n",
    "            l is a list of non-negative integers: for example the number 3\n",
    "            denotes the class h^3.\n",
    "        OUTPUT:\n",
    "            The number of degree d curves meeting some general subvarieties in\n",
    "            this projective space.\n",
    "        EXAMPLES::\n",
    "            Computing the number of lines meeting 4 general lines in P^3.\n",
    "            sage: P = ProjectiveSpace(3)\n",
    "            sage: P.gw_invariant(1,[2,2,2,2])\n",
    "            2\n",
    "            Computing the number of conics meeting 8 general lines in P^3.\n",
    "            sage: P = ProjectiveSpace(3)\n",
    "            sage: P.gw_invariant(2,[2]*8)            \n",
    "            92\n",
    "        \"\"\"\n",
    "        r = dim\n",
    "        #l.sort()\n",
    "        #l.reverse()\n",
    "        n = len(l)\n",
    "        for i in l:\n",
    "            if i > r:\n",
    "                return 0\n",
    "            pass\n",
    "        if sum(l) != r*d + r + d + n - 3:\n",
    "            return 0\n",
    "        elif n == 0 or n == 1:\n",
    "            return 0\n",
    "        elif d == 0:\n",
    "            if n == 3 and sum(l) == r:\n",
    "                return 1\n",
    "            else:\n",
    "                return 0\n",
    "        elif n == 2:\n",
    "            if d == 1 and l == (r,r):\n",
    "                return 1\n",
    "            else:\n",
    "                return 0\n",
    "        else:\n",
    "            if l[-1] == 0:\n",
    "                return 0\n",
    "            elif l[-1] == 1:\n",
    "                return d*gw_invariant(dim, d,l[:-1])\n",
    "            elif r == 2:\n",
    "                if l == [2]*(3*d-1):\n",
    "                    return kontsevich(d)\n",
    "                else:\n",
    "                    return 0\n",
    "            else:\n",
    "                l1 = l[-1] - 1\n",
    "                l2 = 1\n",
    "                ll = [l2] + [l[i] for i in range(n-2)] + [l1+l[n-2]]\n",
    "                res = gw_invariant(dim, d,ll)\n",
    "                S = bipart([l[i] for i in range(n-3)])\n",
    "                for s in S:\n",
    "                    A = tuple(s[0])\n",
    "                    nA = len(A)\n",
    "                    cA = sum(A)\n",
    "                    B = tuple(s[1])\n",
    "                    for dA in range(1,d+1):\n",
    "                        dB = d - dA\n",
    "                        e = r*dA + r + dA + nA - cA - l1 - l[n-2]\n",
    "                        if e >= 0 and e <= r:\n",
    "                            a = gw_invariant(dim, dA,(l1,l[n-2])+tuple(A)+(e,))\n",
    "                            b = gw_invariant(dim, dB,(l2,l[n-3])+tuple(B)+(r-e,))\n",
    "                            res = res + a*b\n",
    "                        f = r*dA + r + dA + nA - cA - l1 - l2\n",
    "                        if f >= 0 and f <= r:\n",
    "                            x = gw_invariant(dim, dA,(l1,l2)+tuple(A)+(f,))\n",
    "                            y = gw_invariant(dim, dB,(l[n-2],l[n-3])+tuple(B)+(r-f,))\n",
    "                            res = res - x*y\n",
    "\n",
    "                #gw2_list.append(\"GW,  dim: \" + str(dim) +  \",  d:\" + str(d) + \", l:\"+ str(l) + \", res: \" + str(res))\n",
    "                return res\n",
    "\n",
    "def gw_invariant(n, b, A):\n",
    "    A_  = sorted(A)\n",
    "    A_.reverse()\n",
    "    return gw_invariant_helper(n, b, tuple(A_))"
   ],
   "outputs": [],
   "metadata": {}
  },
  {
   "cell_type": "code",
   "execution_count": 8,
   "source": [
    "\"\"\"\n",
    "print(gw_invariant(5,1,[2,3,2,2,2,2,2]))\n",
    "print(GW_invariant(5,1,[2,3,2,2,2,2,2]))\n",
    "\n",
    "gw1_list.sort()\n",
    "gw2_list.sort()\n",
    "with open(\"gw1.txt\", \"w\") as f:\n",
    "    for item in gw1_list:\n",
    "        f.write(\"%s\\n\" % item)\n",
    "\n",
    "with open(\"gw2.txt\", \"w\") as f:\n",
    "    for item in gw2_list:\n",
    "        f.write(\"%s\\n\" % item)\n",
    "\"\"\"\n"
   ],
   "outputs": [
    {
     "output_type": "execute_result",
     "data": {
      "text/plain": [
       "'\\nprint(gw_invariant(5,1,[2,3,2,2,2,2,2]))\\nprint(GW_invariant(5,1,[2,3,2,2,2,2,2]))\\n\\ngw1_list.sort()\\ngw2_list.sort()\\nwith open(\"gw1.txt\", \"w\") as f:\\n    for item in gw1_list:\\n        f.write(\"%s\\n\" % item)\\n\\nwith open(\"gw2.txt\", \"w\") as f:\\n    for item in gw2_list:\\n        f.write(\"%s\\n\" % item)\\n'"
      ]
     },
     "metadata": {},
     "execution_count": 8
    }
   ],
   "metadata": {}
  }
 ],
 "metadata": {
  "kernelspec": {
   "display_name": "SageMath 9.2",
   "language": "sage",
   "name": "sagemath_9_2_all"
  },
  "language_info": {
   "name": "python",
   "version": "3.8.5",
   "mimetype": "text/x-python",
   "codemirror_mode": {
    "name": "ipython",
    "version": 3
   },
   "pygments_lexer": "ipython3",
   "nbconvert_exporter": "python",
   "file_extension": ".py"
  },
  "orig_nbformat": 4
 },
 "nbformat": 4,
 "nbformat_minor": 2
}